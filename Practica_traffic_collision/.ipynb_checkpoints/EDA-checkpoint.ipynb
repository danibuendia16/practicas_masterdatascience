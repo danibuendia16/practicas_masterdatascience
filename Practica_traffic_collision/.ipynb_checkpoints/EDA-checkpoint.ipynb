{
 "cells": [
  {
   "cell_type": "code",
   "execution_count": 1,
   "id": "electrical-breast",
   "metadata": {},
   "outputs": [],
   "source": [
    "import pandas as pd\n",
    "import requests\n",
    "from pandas_profiling import ProfileReport\n",
    "import sweetviz as sv\n",
    "import numpy as np"
   ]
  },
  {
   "cell_type": "code",
   "execution_count": 28,
   "id": "quantitative-forestry",
   "metadata": {},
   "outputs": [],
   "source": [
    "unnecesary_columns = ['V_ID','P_ID','C_SEV','C_YEAR','P_USER']"
   ]
  },
  {
   "cell_type": "code",
   "execution_count": 44,
   "id": "extra-phrase",
   "metadata": {},
   "outputs": [],
   "source": [
    "data = pd.read_csv('NCDB_1999_to_2014.csv',low_memory=False)#.drop(unnecesary_columns,1)"
   ]
  },
  {
   "cell_type": "code",
   "execution_count": 45,
   "id": "organized-swift",
   "metadata": {
    "scrolled": false
   },
   "outputs": [
    {
     "data": {
      "text/html": [
       "<div>\n",
       "<style scoped>\n",
       "    .dataframe tbody tr th:only-of-type {\n",
       "        vertical-align: middle;\n",
       "    }\n",
       "\n",
       "    .dataframe tbody tr th {\n",
       "        vertical-align: top;\n",
       "    }\n",
       "\n",
       "    .dataframe thead th {\n",
       "        text-align: right;\n",
       "    }\n",
       "</style>\n",
       "<table border=\"1\" class=\"dataframe\">\n",
       "  <thead>\n",
       "    <tr style=\"text-align: right;\">\n",
       "      <th></th>\n",
       "      <th>C_YEAR</th>\n",
       "      <th>C_MNTH</th>\n",
       "      <th>C_WDAY</th>\n",
       "      <th>C_HOUR</th>\n",
       "      <th>C_SEV</th>\n",
       "      <th>C_VEHS</th>\n",
       "      <th>C_CONF</th>\n",
       "      <th>C_RCFG</th>\n",
       "      <th>C_WTHR</th>\n",
       "      <th>C_RSUR</th>\n",
       "      <th>...</th>\n",
       "      <th>V_ID</th>\n",
       "      <th>V_TYPE</th>\n",
       "      <th>V_YEAR</th>\n",
       "      <th>P_ID</th>\n",
       "      <th>P_SEX</th>\n",
       "      <th>P_AGE</th>\n",
       "      <th>P_PSN</th>\n",
       "      <th>P_ISEV</th>\n",
       "      <th>P_SAFE</th>\n",
       "      <th>P_USER</th>\n",
       "    </tr>\n",
       "  </thead>\n",
       "  <tbody>\n",
       "    <tr>\n",
       "      <th>0</th>\n",
       "      <td>1999</td>\n",
       "      <td>01</td>\n",
       "      <td>1</td>\n",
       "      <td>20</td>\n",
       "      <td>2</td>\n",
       "      <td>02</td>\n",
       "      <td>34</td>\n",
       "      <td>UU</td>\n",
       "      <td>1</td>\n",
       "      <td>5</td>\n",
       "      <td>...</td>\n",
       "      <td>01</td>\n",
       "      <td>06</td>\n",
       "      <td>1990</td>\n",
       "      <td>01</td>\n",
       "      <td>M</td>\n",
       "      <td>41</td>\n",
       "      <td>11</td>\n",
       "      <td>1</td>\n",
       "      <td>UU</td>\n",
       "      <td>1</td>\n",
       "    </tr>\n",
       "    <tr>\n",
       "      <th>1</th>\n",
       "      <td>1999</td>\n",
       "      <td>01</td>\n",
       "      <td>1</td>\n",
       "      <td>20</td>\n",
       "      <td>2</td>\n",
       "      <td>02</td>\n",
       "      <td>34</td>\n",
       "      <td>UU</td>\n",
       "      <td>1</td>\n",
       "      <td>5</td>\n",
       "      <td>...</td>\n",
       "      <td>02</td>\n",
       "      <td>01</td>\n",
       "      <td>1987</td>\n",
       "      <td>01</td>\n",
       "      <td>M</td>\n",
       "      <td>19</td>\n",
       "      <td>11</td>\n",
       "      <td>1</td>\n",
       "      <td>UU</td>\n",
       "      <td>1</td>\n",
       "    </tr>\n",
       "    <tr>\n",
       "      <th>2</th>\n",
       "      <td>1999</td>\n",
       "      <td>01</td>\n",
       "      <td>1</td>\n",
       "      <td>20</td>\n",
       "      <td>2</td>\n",
       "      <td>02</td>\n",
       "      <td>34</td>\n",
       "      <td>UU</td>\n",
       "      <td>1</td>\n",
       "      <td>5</td>\n",
       "      <td>...</td>\n",
       "      <td>02</td>\n",
       "      <td>01</td>\n",
       "      <td>1987</td>\n",
       "      <td>02</td>\n",
       "      <td>F</td>\n",
       "      <td>20</td>\n",
       "      <td>13</td>\n",
       "      <td>2</td>\n",
       "      <td>02</td>\n",
       "      <td>2</td>\n",
       "    </tr>\n",
       "    <tr>\n",
       "      <th>3</th>\n",
       "      <td>1999</td>\n",
       "      <td>01</td>\n",
       "      <td>1</td>\n",
       "      <td>08</td>\n",
       "      <td>2</td>\n",
       "      <td>01</td>\n",
       "      <td>01</td>\n",
       "      <td>UU</td>\n",
       "      <td>5</td>\n",
       "      <td>3</td>\n",
       "      <td>...</td>\n",
       "      <td>01</td>\n",
       "      <td>01</td>\n",
       "      <td>1986</td>\n",
       "      <td>01</td>\n",
       "      <td>M</td>\n",
       "      <td>46</td>\n",
       "      <td>11</td>\n",
       "      <td>1</td>\n",
       "      <td>UU</td>\n",
       "      <td>1</td>\n",
       "    </tr>\n",
       "    <tr>\n",
       "      <th>4</th>\n",
       "      <td>1999</td>\n",
       "      <td>01</td>\n",
       "      <td>1</td>\n",
       "      <td>08</td>\n",
       "      <td>2</td>\n",
       "      <td>01</td>\n",
       "      <td>01</td>\n",
       "      <td>UU</td>\n",
       "      <td>5</td>\n",
       "      <td>3</td>\n",
       "      <td>...</td>\n",
       "      <td>99</td>\n",
       "      <td>NN</td>\n",
       "      <td>NNNN</td>\n",
       "      <td>01</td>\n",
       "      <td>M</td>\n",
       "      <td>05</td>\n",
       "      <td>99</td>\n",
       "      <td>2</td>\n",
       "      <td>UU</td>\n",
       "      <td>3</td>\n",
       "    </tr>\n",
       "  </tbody>\n",
       "</table>\n",
       "<p>5 rows × 22 columns</p>\n",
       "</div>"
      ],
      "text/plain": [
       "   C_YEAR C_MNTH C_WDAY C_HOUR  C_SEV C_VEHS C_CONF C_RCFG C_WTHR C_RSUR  ...  \\\n",
       "0    1999     01      1     20      2     02     34     UU      1      5  ...   \n",
       "1    1999     01      1     20      2     02     34     UU      1      5  ...   \n",
       "2    1999     01      1     20      2     02     34     UU      1      5  ...   \n",
       "3    1999     01      1     08      2     01     01     UU      5      3  ...   \n",
       "4    1999     01      1     08      2     01     01     UU      5      3  ...   \n",
       "\n",
       "  V_ID V_TYPE V_YEAR P_ID P_SEX P_AGE P_PSN P_ISEV P_SAFE P_USER  \n",
       "0   01     06   1990   01     M    41    11      1     UU      1  \n",
       "1   02     01   1987   01     M    19    11      1     UU      1  \n",
       "2   02     01   1987   02     F    20    13      2     02      2  \n",
       "3   01     01   1986   01     M    46    11      1     UU      1  \n",
       "4   99     NN   NNNN   01     M    05    99      2     UU      3  \n",
       "\n",
       "[5 rows x 22 columns]"
      ]
     },
     "execution_count": 45,
     "metadata": {},
     "output_type": "execute_result"
    }
   ],
   "source": [
    "data.head()"
   ]
  },
  {
   "cell_type": "code",
   "execution_count": 57,
   "id": "thick-boulder",
   "metadata": {},
   "outputs": [],
   "source": [
    "c_groups = [col for col in data.columns if col[0]==\"C\"]"
   ]
  },
  {
   "cell_type": "code",
   "execution_count": 75,
   "id": "ordered-attempt",
   "metadata": {},
   "outputs": [],
   "source": [
    "c_groups = [col for col in data.columns if col[0]==\"C\"]\n",
    "#c_groups.append('P_ID')\n",
    "df_columns = [col for col in data.columns if col[0]==\"C\"]\n",
    "df_columns.append('P_ID')\n",
    "data = data.merge(data[df_columns].groupby(df_columns).size().reset_index().drop('P_ID',axis=1).rename(columns={0:\"A_PCOUNT\"}),on=c_groups)"
   ]
  },
  {
   "cell_type": "code",
   "execution_count": 46,
   "id": "parental-humidity",
   "metadata": {},
   "outputs": [
    {
     "name": "stdout",
     "output_type": "stream",
     "text": [
      "Numero de registros: 5860405\n",
      "Numero de columnas: 22\n"
     ]
    }
   ],
   "source": [
    "print(f'Numero de registros: {data.shape[0]}')\n",
    "print(f'Numero de columnas: {data.shape[1]}')"
   ]
  },
  {
   "cell_type": "code",
   "execution_count": 47,
   "id": "previous-japanese",
   "metadata": {
    "scrolled": true
   },
   "outputs": [
    {
     "data": {
      "text/plain": [
       "{'C_YEAR': dtype('int64'),\n",
       " 'C_MNTH': dtype('O'),\n",
       " 'C_WDAY': dtype('O'),\n",
       " 'C_HOUR': dtype('O'),\n",
       " 'C_SEV': dtype('int64'),\n",
       " 'C_VEHS': dtype('O'),\n",
       " 'C_CONF': dtype('O'),\n",
       " 'C_RCFG': dtype('O'),\n",
       " 'C_WTHR': dtype('O'),\n",
       " 'C_RSUR': dtype('O'),\n",
       " 'C_RALN': dtype('O'),\n",
       " 'C_TRAF': dtype('O'),\n",
       " 'V_ID': dtype('O'),\n",
       " 'V_TYPE': dtype('O'),\n",
       " 'V_YEAR': dtype('O'),\n",
       " 'P_ID': dtype('O'),\n",
       " 'P_SEX': dtype('O'),\n",
       " 'P_AGE': dtype('O'),\n",
       " 'P_PSN': dtype('O'),\n",
       " 'P_ISEV': dtype('O'),\n",
       " 'P_SAFE': dtype('O'),\n",
       " 'P_USER': dtype('O')}"
      ]
     },
     "execution_count": 47,
     "metadata": {},
     "output_type": "execute_result"
    }
   ],
   "source": [
    "data.dtypes.to_dict()"
   ]
  },
  {
   "cell_type": "code",
   "execution_count": 48,
   "id": "sublime-moment",
   "metadata": {},
   "outputs": [],
   "source": [
    "nas = [\"UU\",\"XX\",\"U\",\"X\",\"XXXX\",\"NN\",\"NNNN\",\"N\",\"UUUU\"]\n",
    "others = {\n",
    "    \"P_SAFE\" : \"14\",\n",
    "    \"P_PSN\": \"100\",\n",
    "    \"V_TYPE\": \"24\",\n",
    "    \"C_TRAF\": \"19\",\n",
    "    \"C_RALN\": \"7\",\n",
    "    \"C_RSUR\": \"10\",\n",
    "    \"C_WTHR\": \"8\",\n",
    "    \"C_RCFG\": \"13\",\n",
    "    \"C_CONF\": \"42\"\n",
    "}\n",
    "int_types = [\"C_YEAR\",\"C_MNTH\",\"C_WDAY\",\"C_VEHS\",\"V_YEAR\",\"C_HOUR\",\"P_AGE\"]\n",
    "categories = [col for col in data.columns if col not in int_types]\n",
    "target_columns = [\"C_SEV\",\"P_ISEV\"]\n",
    "#ver q hacer con este C_HOUR"
   ]
  },
  {
   "cell_type": "code",
   "execution_count": 49,
   "id": "massive-wealth",
   "metadata": {},
   "outputs": [
    {
     "name": "stderr",
     "output_type": "stream",
     "text": [
      "F:\\Anaconda\\envs\\python37v2\\lib\\site-packages\\pandas\\core\\missing.py:49: FutureWarning: elementwise comparison failed; returning scalar instead, but in the future will perform elementwise comparison\n",
      "  mask = arr == x\n"
     ]
    }
   ],
   "source": [
    "for na in nas:\n",
    "    data[categories] = data[categories].replace(na,pd.NA)\n",
    "\n",
    "for key,value in others.items():\n",
    "    data[key] = data[key].replace(to_replace=r'^Q.*', value=value, regex=True)\n",
    "    \n",
    "#data.replace(to_replace=r'^[A-Z].*',value=np.nan, regex=True,inplace=True)"
   ]
  },
  {
   "cell_type": "code",
   "execution_count": 52,
   "id": "ancient-number",
   "metadata": {},
   "outputs": [
    {
     "data": {
      "text/plain": [
       "Series([], Name: V_YEAR, dtype: float64)"
      ]
     },
     "execution_count": 52,
     "metadata": {},
     "output_type": "execute_result"
    }
   ],
   "source": [
    "data[int_types] = data[int_types].apply(pd.to_numeric, errors='coerce',downcast='integer')\n",
    "data[data[\"V_YEAR\"]==\"NNNN\"][\"V_YEAR\"]"
   ]
  },
  {
   "cell_type": "code",
   "execution_count": 54,
   "id": "warming-declaration",
   "metadata": {},
   "outputs": [],
   "source": [
    "#data['V_YEAR'].replace(\"NNNN\",pd.NA,inplace=True)\n",
    "data['A_VAGE'] = data['C_YEAR'] - pd.to_numeric(data['V_YEAR'])"
   ]
  },
  {
   "cell_type": "code",
   "execution_count": null,
   "id": "fallen-movie",
   "metadata": {},
   "outputs": [],
   "source": [
    "data = data.drop(unnecesary_columns,1)"
   ]
  },
  {
   "cell_type": "code",
   "execution_count": 53,
   "id": "still-orchestra",
   "metadata": {},
   "outputs": [
    {
     "data": {
      "text/plain": [
       "{'C_YEAR': dtype('int16'),\n",
       " 'C_MNTH': dtype('float64'),\n",
       " 'C_WDAY': dtype('float64'),\n",
       " 'C_HOUR': dtype('float64'),\n",
       " 'C_SEV': dtype('int64'),\n",
       " 'C_VEHS': dtype('float64'),\n",
       " 'C_CONF': dtype('O'),\n",
       " 'C_RCFG': dtype('O'),\n",
       " 'C_WTHR': dtype('O'),\n",
       " 'C_RSUR': dtype('O'),\n",
       " 'C_RALN': dtype('O'),\n",
       " 'C_TRAF': dtype('O'),\n",
       " 'V_ID': dtype('O'),\n",
       " 'V_TYPE': dtype('O'),\n",
       " 'V_YEAR': dtype('float64'),\n",
       " 'P_ID': dtype('O'),\n",
       " 'P_SEX': dtype('O'),\n",
       " 'P_AGE': dtype('float64'),\n",
       " 'P_PSN': dtype('O'),\n",
       " 'P_ISEV': dtype('O'),\n",
       " 'P_SAFE': dtype('O'),\n",
       " 'P_USER': dtype('O')}"
      ]
     },
     "execution_count": 53,
     "metadata": {},
     "output_type": "execute_result"
    }
   ],
   "source": [
    "data.dtypes.to_dict()"
   ]
  },
  {
   "cell_type": "code",
   "execution_count": 22,
   "id": "unlike-reproduction",
   "metadata": {},
   "outputs": [
    {
     "data": {
      "text/plain": [
       "{'C_YEAR': dtype('int64'),\n",
       " 'C_MNTH': dtype('O'),\n",
       " 'C_WDAY': dtype('O'),\n",
       " 'C_HOUR': dtype('O'),\n",
       " 'C_SEV': CategoricalDtype(categories=[1, 2], ordered=False),\n",
       " 'C_VEHS': dtype('O'),\n",
       " 'C_CONF': CategoricalDtype(categories=['01', '02', '03', '04', '05', '06', '21', '22', '23', '24',\n",
       "                   '25', '31', '32', '33', '34', '35', '36', '41', '42'],\n",
       "                  ordered=False),\n",
       " 'C_RCFG': CategoricalDtype(categories=['01', '02', '03', '04', '05', '06', '07', '08', '09', '10',\n",
       "                   '13'],\n",
       "                  ordered=False),\n",
       " 'C_WTHR': CategoricalDtype(categories=['1', '2', '3', '4', '5', '6', '7', '8', 'U'], ordered=False),\n",
       " 'C_RSUR': CategoricalDtype(categories=['1', '10', '2', '3', '4', '5', '6', '7', '8', '9', 'U'], ordered=False),\n",
       " 'C_RALN': CategoricalDtype(categories=['1', '2', '3', '4', '5', '6', '7', 'U'], ordered=False),\n",
       " 'C_TRAF': CategoricalDtype(categories=['01', '02', '03', '04', '05', '06', '07', '08', '09', '10',\n",
       "                   '11', '12', '13', '15', '16', '17', '18', '19'],\n",
       "                  ordered=False),\n",
       " 'V_TYPE': CategoricalDtype(categories=['01', '05', '06', '07', '08', '09', '10', '11', '14', '16',\n",
       "                   '17', '18', '19', '20', '21', '22', '23', '24', 'NN'],\n",
       "                  ordered=False),\n",
       " 'V_YEAR': dtype('O'),\n",
       " 'P_SEX': CategoricalDtype(categories=['F', 'M', 'N', 'U'], ordered=False),\n",
       " 'P_AGE': dtype('O'),\n",
       " 'P_PSN': CategoricalDtype(categories=['100', '11', '12', '13', '21', '22', '23', '31', '32', '33',\n",
       "                   '96', '97', '98', '99', 'NN'],\n",
       "                  ordered=False),\n",
       " 'P_ISEV': CategoricalDtype(categories=['1', '2', '3', 'N', 'U'], ordered=False),\n",
       " 'P_SAFE': CategoricalDtype(categories=['01', '02', '09', '10', '11', '12', '13', '14', 'NN'], ordered=False),\n",
       " 'P_USER': CategoricalDtype(categories=['1', '2', '3', '4', '5', 'U'], ordered=False)}"
      ]
     },
     "execution_count": 22,
     "metadata": {},
     "output_type": "execute_result"
    }
   ],
   "source": [
    "data[int_types].apply(pd.to_numeric, errors='coerce',downcast='integer')\n",
    "#data[int_types] = data[int_types].astype(pd.Int64Dtype(),errors='ignore')\n",
    "data[categories] = data[categories].astype('category')\n",
    "data.dtypes.to_dict()"
   ]
  },
  {
   "cell_type": "code",
   "execution_count": 21,
   "id": "presidential-force",
   "metadata": {},
   "outputs": [
    {
     "data": {
      "text/plain": [
       "array(['01', '02', '03', '04', '05', '06', '07', '08', '09', '10', '11',\n",
       "       '12', <NA>], dtype=object)"
      ]
     },
     "execution_count": 21,
     "metadata": {},
     "output_type": "execute_result"
    }
   ],
   "source": [
    "data[\"C_MNTH\"].unique()"
   ]
  },
  {
   "cell_type": "code",
   "execution_count": 24,
   "id": "serial-alloy",
   "metadata": {},
   "outputs": [
    {
     "name": "stderr",
     "output_type": "stream",
     "text": [
      "F:\\Anaconda\\envs\\python37v2\\lib\\site-packages\\pandas_profiling\\model\\correlations.py:126: UserWarning: There was an attempt to calculate the cramers correlation, but this failed.\n",
      "To hide this warning, disable the calculation\n",
      "(using `df.profile_report(correlations={\"cramers\": {\"calculate\": False}})`\n",
      "If this is problematic for your use case, please report this as an issue:\n",
      "https://github.com/pandas-profiling/pandas-profiling/issues\n",
      "(include the error message: 'The internally computed table of expected frequencies has a zero element at (0, 45).')\n",
      "  correlation_name=correlation_name, error=error\n"
     ]
    },
    {
     "data": {
      "application/vnd.jupyter.widget-view+json": {
       "model_id": "42fe21a3d30143b1a9b8bc3fbe9f7f79",
       "version_major": 2,
       "version_minor": 0
      },
      "text/plain": [
       "Tab(children=(HTML(value='<div id=\"overview-content\" class=\"row variable spacing\">\\n    <div class=\"row\">\\n   …"
      ]
     },
     "metadata": {},
     "output_type": "display_data"
    },
    {
     "data": {
      "text/html": [
       "Report generated with <a href=\"https://github.com/pandas-profiling/pandas-profiling\">pandas-profiling</a>."
      ],
      "text/plain": [
       "<IPython.core.display.HTML object>"
      ]
     },
     "metadata": {},
     "output_type": "display_data"
    }
   ],
   "source": [
    "#my_report = sv.analyze(data)\n",
    "#my_report.show_notebook()\n",
    "profile = ProfileReport(data, title=\"Crashes EDA\")\n",
    "profile.to_widgets()"
   ]
  },
  {
   "cell_type": "code",
   "execution_count": 25,
   "id": "vietnamese-logging",
   "metadata": {},
   "outputs": [
    {
     "data": {
      "text/plain": [
       "0"
      ]
     },
     "execution_count": 25,
     "metadata": {},
     "output_type": "execute_result"
    }
   ],
   "source": [
    "data[\"P_ISEV\"].isna().sum()"
   ]
  },
  {
   "cell_type": "code",
   "execution_count": null,
   "id": "worthy-passenger",
   "metadata": {},
   "outputs": [],
   "source": []
  }
 ],
 "metadata": {
  "kernelspec": {
   "display_name": "Python 3",
   "language": "python",
   "name": "python3"
  },
  "language_info": {
   "codemirror_mode": {
    "name": "ipython",
    "version": 3
   },
   "file_extension": ".py",
   "mimetype": "text/x-python",
   "name": "python",
   "nbconvert_exporter": "python",
   "pygments_lexer": "ipython3",
   "version": "3.8.8"
  }
 },
 "nbformat": 4,
 "nbformat_minor": 5
}
